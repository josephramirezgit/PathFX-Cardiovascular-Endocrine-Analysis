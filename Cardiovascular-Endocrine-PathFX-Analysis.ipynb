{
 "cells": [
  {
   "cell_type": "markdown",
   "metadata": {},
   "source": [
    "## PathFX Algorithm Applied to Cardiovascular and Endocrine Drugs"
   ]
  },
  {
   "cell_type": "markdown",
   "metadata": {},
   "source": [
    "Notes on usage: Ensure the working directory is of the programmer's choice. It is also possible to run the mentioned linux commands on a notebook, but it is easier for the programmer to just use their own terminal and copy/paste these commands. If relevant phenotypes were displayed, then results would be saved as a csv file (which can be seen further down in the code). "
   ]
  },
  {
   "cell_type": "code",
   "execution_count": null,
   "metadata": {},
   "outputs": [],
   "source": [
    "import pandas as pd\n",
    "\"\"\"\n",
    "On the command line, run these commands in the directory of choice\n",
    "Cardiovascular Drugs\n",
    "$ python phenotype_enrichment_pathway.py -d 'DB00722' -a 'PathFX_demo'\n",
    "$ python phenotype_enrichment_pathway.py -d 'DB00264' -a 'PathFX_demo'\n",
    "$ python phenotype_enrichment_pathway.py -d 'DB00381' -a 'PathFX_demo'\n",
    "$ python phenotype_enrichment_pathway.py -d 'DB00678' -a 'PathFX_demo'\n",
    "$ python phenotype_enrichment_pathway.py -d 'DB00999' -a 'PathFX_demo'\n",
    "\n",
    "Endorcrine Drugs\n",
    "$ python phenotype_enrichment_pathway.py -d 'DB00451' -a 'PathFX_demo'\n",
    "$ python phenotype_enrichment_pathway.py -d 'DB00331' -a 'PathFX_demo'\n",
    "$ python phenotype_enrichment_pathway.py -d 'DB00635' -a 'PathFX_demo'\n",
    "$ python phenotype_enrichment_pathway.py -d 'DB01216' -a 'PathFX_demo'\n",
    "$ python phenotype_enrichment_pathway.py -d 'DB00860' -a 'PathFX_demo'\n",
    "\"\"\""
   ]
  },
  {
   "cell_type": "markdown",
   "metadata": {},
   "source": [
    "## PathFX Applied to Cardiovascular Drugs"
   ]
  },
  {
   "cell_type": "code",
   "execution_count": null,
   "metadata": {},
   "outputs": [],
   "source": [
    "# DB00722: Lisinopril\n",
    "\n",
    "# Read in the results file\n",
    "rfile = '../PathFX/results/pathfx_demo/DB00722/DB00722_merged_neighborhood__assoc_table_.txt'\n",
    "\n",
    "# Set the dataframe to be the results file\n",
    "df_Lisinopril_DB00722 = pd.read_csv(rfile,sep='\\t')\n",
    "\n",
    "# List comprehension to find breast cancer related phenotypes\n",
    "lisinopril_related_drugs = [x for x in df_Lisinopril_DB00722[\"phenotype\"] if \"breast\" in x.lower()] \n",
    "\n",
    "# Print the dataframe to see if there are any relevant phenotypes\n",
    "lisinopril_related_drugs "
   ]
  },
  {
   "cell_type": "code",
   "execution_count": null,
   "metadata": {},
   "outputs": [],
   "source": [
    "# DB00264: Metoprolol\n",
    "\n",
    "# Read in the results file\n",
    "rfile = '../PathFX/results/pathfx_demo/DB00264/DB00264_merged_neighborhood__assoc_table_.txt'\n",
    "\n",
    "# Set the dataframe to be the results file\n",
    "df_Metoprolol_DB00264 = pd.read_csv(rfile,sep='\\t')\n",
    "\n",
    "# List comprehension to find breast cancer related phenotypes\n",
    "metoprolol_related_drugs = [x for x in df_Metoprolol_DB00264[\"phenotype\"] if \"breast\" in x.lower()] \n",
    "\n",
    "# Print the dataframe to see if there are any relevant phenotypes\n",
    "metoprolol_related_drugs "
   ]
  },
  {
   "cell_type": "code",
   "execution_count": null,
   "metadata": {},
   "outputs": [],
   "source": [
    "# DB00381: Amlodipine\n",
    "\n",
    "# Read in the results file\n",
    "rfile = '../PathFX/results/pathfx_demo/DB00381/DB00381_merged_neighborhood__assoc_table_.txt'\n",
    "\n",
    "# Set the dataframe to be the results file\n",
    "df_Amlodipine_DB00381 = pd.read_csv(rfile,sep='\\t') \n",
    "\n",
    "# List comprehension to find breast cancer related phenotypes\n",
    "amlodipine_related_drugs = [x for x in df_Amlodipine_DB00381[\"phenotype\"] if \"breast\" in x.lower()]\n",
    "\n",
    "# Print the dataframe to see if there are any relevant phenotypes\n",
    "amlodipine_related_drugs "
   ]
  },
  {
   "cell_type": "code",
   "execution_count": null,
   "metadata": {},
   "outputs": [],
   "source": [
    "# DB00678: Losartan\n",
    "\n",
    "# Read in the results file\n",
    "rfile = '../PathFX/results/pathfx_demo/DB00678/DB00678_merged_neighborhood__assoc_table_.txt'\n",
    "\n",
    "# Set the dataframe to be the results file\n",
    "df_Losartan_DB00678 = pd.read_csv(rfile,sep='\\t') \n",
    "\n",
    "# List comprehension to find breast cancer related phenotypes\n",
    "losartan_related_drugs = [x for x in df_Losartan_DB00678[\"phenotype\"] if \"breast\" in x.lower()]\n",
    "\n",
    "# Print the dataframe to see if there are any relevant phenotypes\n",
    "losartan_related_drugs "
   ]
  },
  {
   "cell_type": "code",
   "execution_count": null,
   "metadata": {},
   "outputs": [],
   "source": [
    "# DB00999: Hydrochlorothiazide\n",
    "\n",
    "# Read in the results file\n",
    "rfile = '../PathFX/results/pathfx_demo/DB00999/DB00999_merged_neighborhood__assoc_table_.txt'\n",
    "\n",
    "# Set the dataframe to be the results file\n",
    "df_Hydrochlorothiazide_DB00999 = pd.read_csv(rfile,sep='\\t') \n",
    "\n",
    "# List comprehension to find breast cancer related phenotypes\n",
    "hydrochlorothiazide_related_drugs = [x for x in df_Hydrochlorothiazide_DB00999[\"phenotype\"] if \"breast\" in x.lower()]\n",
    "\n",
    "# Print the dataframe to see if there are any relevant phenotypes\n",
    "hydrochlorothiazide_related_drugs "
   ]
  },
  {
   "cell_type": "code",
   "execution_count": null,
   "metadata": {},
   "outputs": [],
   "source": [
    "# Hydrochlorothiazide results showed relevant phenotypes, so put the data into a csv for further analysis\n",
    "df_Hydrochlorothiazide_DB00999.to_csv(\"Hydrochlorothiazide_DB00999.csv\")"
   ]
  },
  {
   "cell_type": "markdown",
   "metadata": {},
   "source": [
    "## PathFX Applied to Endocrine Drugs"
   ]
  },
  {
   "cell_type": "code",
   "execution_count": null,
   "metadata": {},
   "outputs": [],
   "source": [
    "# DB00451: Levothyroxine\n",
    "\n",
    "# Read in the results file\n",
    "rfile = '../PathFX/results/pathfx_demo/DB00451/DB00451_merged_neighborhood__assoc_table_.txt'\n",
    "\n",
    "# Set the dataframe to be the results file\n",
    "df_Levothyroxine_DB00451 = pd.read_csv(rfile,sep='\\t')\n",
    "\n",
    "# List comprehension to find breast cancer related phenotypes\n",
    "levothyroxine_related_drugs = [x for x in df_Levothyroxine_DB00451[\"phenotype\"] if \"breast\" in x.lower()] \n",
    "\n",
    "# Print the dataframe to see if there are any relevant phenotypes\n",
    "levothyroxine_related_drugs "
   ]
  },
  {
   "cell_type": "code",
   "execution_count": null,
   "metadata": {},
   "outputs": [],
   "source": [
    "# DB00331: Metformin\n",
    "\n",
    "# Read in the results file\n",
    "rfile = '../PathFX/results/pathfx_demo/DB00331/DB00331_merged_neighborhood__assoc_table_.txt'\n",
    "\n",
    "# Set the dataframe to be the results file\n",
    "df_Metformin_DB00331 = pd.read_csv(rfile,sep='\\t')\n",
    "\n",
    "# List comprehension to find breast cancer related phenotypes\n",
    "metformin_related_drugs = [x for x in df_Metformin_DB00331[\"phenotype\"] if \"breast\" in x.lower()] \n",
    "\n",
    "# Print the dataframe to see if there are any relevant phenotypes\n",
    "metformin_related_drugs "
   ]
  },
  {
   "cell_type": "code",
   "execution_count": null,
   "metadata": {},
   "outputs": [],
   "source": [
    "# Metformin results showed relevant phenotypes, so put the data into a csv for further analysis\n",
    "df_Metformin_DB00331.to_csv(\"Metformin_DB00331.csv\")"
   ]
  },
  {
   "cell_type": "code",
   "execution_count": null,
   "metadata": {},
   "outputs": [],
   "source": [
    "# DB00635: Prednisone\n",
    "\n",
    "# Read in the results file\n",
    "rfile = '../PathFX/results/pathfx_demo/DB00635/DB00635_merged_neighborhood__assoc_table_.txt'\n",
    "\n",
    "# Set the dataframe to be the results file\n",
    "df_Prednisone_DB00635 = pd.read_csv(rfile,sep='\\t')\n",
    "\n",
    "# List comprehension to find breast cancer related phenotypes\n",
    "prednisone_related_drugs = [x for x in df_Prednisone_DB00635[\"phenotype\"] if \"breast\" in x.lower()] \n",
    "\n",
    "# Print the dataframe to see if there are any relevant phenotypes\n",
    "prednisone_related_drugs "
   ]
  },
  {
   "cell_type": "code",
   "execution_count": null,
   "metadata": {},
   "outputs": [],
   "source": [
    "# DB01216: Finasteride\n",
    "\n",
    "# Read in the results file\n",
    "rfile = '../PathFX/results/pathfx_demo/DB01216/DB01216_merged_neighborhood__assoc_table_.txt'\n",
    "\n",
    "# Set the dataframe to be the results file\n",
    "df_Finasteride_DB01216 = pd.read_csv(rfile,sep='\\t')\n",
    "\n",
    "# List comprehension to find breast cancer related phenotypes\n",
    "finasteride_related_drugs = [x for x in df_Finasteride_DB01216[\"phenotype\"] if \"breast\" in x.lower()] \n",
    "\n",
    "# Print the dataframe to see if there are any relevant phenotypes\n",
    "finasteride_related_drugs"
   ]
  },
  {
   "cell_type": "code",
   "execution_count": null,
   "metadata": {},
   "outputs": [],
   "source": [
    "# DB00860: Prednisolone\n",
    "\n",
    "# Read in the results file\n",
    "rfile = '../PathFX/results/pathfx_demo/DB00860/DB00860_merged_neighborhood__assoc_table_.txt'\n",
    "\n",
    "# Set the dataframe to be the results file\n",
    "df_Prednisolone_DB00860 = pd.read_csv(rfile,sep='\\t')\n",
    "\n",
    "# List comprehension to find breast cancer related phenotypes\n",
    "prednisolone_related_drugs = [x for x in df_Prednisolone_DB00860[\"phenotype\"] if \"breast\" in x.lower()] \n",
    "\n",
    "# Print the dataframe to see if there are any relevant phenotypes\n",
    "prednisolone_related_drugs"
   ]
  },
  {
   "cell_type": "code",
   "execution_count": null,
   "metadata": {},
   "outputs": [],
   "source": []
  }
 ],
 "metadata": {
  "kernelspec": {
   "display_name": "Python 3",
   "language": "python",
   "name": "python3"
  },
  "language_info": {
   "codemirror_mode": {
    "name": "ipython",
    "version": 3
   },
   "file_extension": ".py",
   "mimetype": "text/x-python",
   "name": "python",
   "nbconvert_exporter": "python",
   "pygments_lexer": "ipython3",
   "version": "3.8.3"
  }
 },
 "nbformat": 4,
 "nbformat_minor": 4
}
